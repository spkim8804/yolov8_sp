{
 "cells": [
  {
   "cell_type": "code",
   "execution_count": 13,
   "id": "1587d55b-3264-4528-93d1-900a9bfb45c3",
   "metadata": {},
   "outputs": [
    {
     "name": "stdout",
     "output_type": "stream",
     "text": [
      "################ camera calibration #############\n",
      "camera_matrices: [array([[1.06564641e+03, 0.00000000e+00, 5.94924440e+02],\n",
      "       [0.00000000e+00, 1.06969721e+03, 1.03209179e+03],\n",
      "       [0.00000000e+00, 0.00000000e+00, 1.00000000e+00]]), array([[1.07011857e+03, 0.00000000e+00, 6.06849467e+02],\n",
      "       [0.00000000e+00, 1.07790904e+03, 1.03963310e+03],\n",
      "       [0.00000000e+00, 0.00000000e+00, 1.00000000e+00]]), array([[1.07292399e+03, 0.00000000e+00, 5.62253619e+02],\n",
      "       [0.00000000e+00, 1.07238707e+03, 6.76445224e+02],\n",
      "       [0.00000000e+00, 0.00000000e+00, 1.00000000e+00]]), array([[1.05351483e+03, 0.00000000e+00, 6.45557261e+02],\n",
      "       [0.00000000e+00, 1.06877249e+03, 1.03721384e+03],\n",
      "       [0.00000000e+00, 0.00000000e+00, 1.00000000e+00]]), array([[1.04101463e+03, 0.00000000e+00, 6.05379366e+02],\n",
      "       [0.00000000e+00, 1.04895329e+03, 9.06351964e+02],\n",
      "       [0.00000000e+00, 0.00000000e+00, 1.00000000e+00]])]\n",
      "dist_coeff: [array([-0.07435691,  0.08911365,  0.0144337 , -0.00183406, -0.03392423]), array([-0.05414292,  0.07174599,  0.01633821,  0.0011714 , -0.02226304]), array([-0.13842382,  0.55591349,  0.01354248, -0.00421037, -0.86872848]), array([ 0.03013611, -0.07300061,  0.02478333,  0.00672808,  0.05844578]), array([-0.12252978,  0.28567483, -0.01305912,  0.00226581, -0.20858198])]\n",
      "rot_vectors: [array([ 0.66940917, -0.62482184,  0.20625541]), array([ 0.35483977, -2.19585461,  0.66748109]), array([-0.82847278,  0.50547558, -0.79828198]), array([ 0.66060475,  0.8853213 , -0.26411827]), array([ 0.24337005,  2.36475434, -0.88397508])]\n",
      "trans_vectors: [array([-0.08836201, -0.36391309,  0.29482682]), array([ 0.08906542, -0.36874908,  0.31996586]), array([-0.07733242,  0.05493289,  0.6147065 ]), array([-0.12505097, -0.36189011,  0.49408745]), array([ 0.09244753, -0.29116611,  0.54452071])]\n",
      "################ camera calibration #############\n"
     ]
    },
    {
     "data": {
      "application/vnd.jupyter.widget-view+json": {
       "model_id": "bc824aec26bd464c8dd89e6ec617d5b1",
       "version_major": 2,
       "version_minor": 0
      },
      "text/plain": [
       "interactive(children=(IntSlider(value=3, description='frame_idx', max=7), Output()), _dom_classes=('widget-int…"
      ]
     },
     "metadata": {},
     "output_type": "display_data"
    }
   ],
   "source": [
    "import cv2\n",
    "import numpy as np\n",
    "from ipywidgets import interactive\n",
    "from matplotlib import pyplot as plt\n",
    "import json\n",
    "\n",
    "# Define filename\n",
    "# input_file = \"D:/spkim/data/20241114_40Hz_test/20241114_40Hz_test/C_20Hz_Bandi_20fps.txt\"  # File containing points\n",
    "# input_file = \"D:/spkim/data/20241114_40Hz_test/20241114_40Hz_test/test.txt\"  # File containing points\n",
    "input_file = \"20241226_8_edges.txt\"\n",
    "\n",
    "# output_file = \"triangulated_points.csv\"\n",
    "output_file = \"8_edge_result.csv\"\n",
    "\n",
    "keypoint_cnt = 1\n",
    "camera_cnt = 5\n",
    "\n",
    "# Image의 카메라 roi 정의\n",
    "camera_roi = [\n",
    "    [0, 0, 1200, 1000], # x, y, width, height\n",
    "    [1200, 0, 1200, 1000],\n",
    "    [2400, 0, 1200, 1200],\n",
    "    [0, 1000, 1200, 1000],\n",
    "    [1200, 1000, 1200, 1000]\n",
    "]\n",
    "\n",
    "# 캘리브레이션 데이터 로드\n",
    "with open(\"camera_calibration_data.json\", \"r\") as f:\n",
    "    calibration_data = json.load(f)\n",
    "\n",
    "camera_matrices = [np.array(mtx) for mtx in calibration_data[\"camera_matrices\"]]\n",
    "dist_coeffs = [np.array(dist) for dist in calibration_data[\"dist_coeffs\"]]\n",
    "rot_vectors = [np.array(rvec) for rvec in calibration_data[\"rot_vectors\"]]\n",
    "trans_vectors = [np.array(tvec) for tvec in calibration_data[\"trans_vectors\"]]\n",
    "square_size = 40  # 4 cm\n",
    "\n",
    "print(f\"################ camera calibration #############\")\n",
    "print(f\"camera_matrices: {camera_matrices}\")\n",
    "print(f\"dist_coeff: {dist_coeffs}\")\n",
    "print(f\"rot_vectors: {rot_vectors}\")\n",
    "print(f\"trans_vectors: {trans_vectors}\")\n",
    "print(f\"################ camera calibration #############\")\n",
    "\n",
    "# 각 카메라의 투영 행렬 계산\n",
    "projection_matrices = []\n",
    "for cam_idx, (K, rvec, tvec) in enumerate(zip(camera_matrices, rot_vectors, trans_vectors)):\n",
    "    R, _ = cv2.Rodrigues(rvec)  # 회전 벡터를 회전 행렬로 변환\n",
    "    T = tvec.reshape(3, 1)          # 변환 벡터\n",
    "    RT = np.hstack((R, T))          # [R | T]\n",
    "    P = np.dot(K, RT)               # 투영 행렬: K * [R | T]\n",
    "    projection_matrices.append(P)\n",
    "\n",
    "# 평행이동과 회전을 위한 value: pre-determined\n",
    "INTERSECTION = [ 5.485472, 11.23394,  -6.582967]\n",
    "ROTATION_MATRIX = [[ 0.9940044, -0.09772341, -0.04904471],\n",
    " [-0.09772341, -0.59281272, -0.79938928],\n",
    " [0.04904471, 0.79938928, -0.59880832]]\n",
    "INTERSECTION = np.array(INTERSECTION)\n",
    "ROTATION_MATRIX = np.array(ROTATION_MATRIX)\n",
    "\n",
    "def transform_point(point):\n",
    "    translated_point = point - INTERSECTION\n",
    "    aligned_point = np.dot(translated_point, ROTATION_MATRIX.T)\n",
    "    return aligned_point\n",
    "\n",
    "# Data pre-processing: 0 or None value is replaced by nearest value\n",
    "def data_pre_processing(points_data):\n",
    "    # Treat 0 as missing (convert 0 to np.nan)\n",
    "    points_data[points_data == 0] = np.nan\n",
    "    # print(points_data)\n",
    "    # Forward fill\n",
    "    for i in range(1, len(points_data)):\n",
    "        mask = np.isnan(points_data[i, :])\n",
    "        points_data[i, mask] = points_data[i - 1, mask]\n",
    "    \n",
    "    # Backward fill\n",
    "    for i in range(len(points_data) - 2, -1, -1):\n",
    "        mask = np.isnan(points_data[i, :])\n",
    "        points_data[i, mask] = points_data[i + 1, mask]\n",
    "\n",
    "    return points_data\n",
    "\n",
    "def triangulate_points(row, conf, camera_cnt):\n",
    "\n",
    "    points_2d = np.array(row).reshape(5, 2)  # (x, y) 좌표로 변환\n",
    "    \n",
    "    # 왜곡 보정된 좌표로 변환\n",
    "    undistorted_points = []\n",
    "    for cam_idx, (pt, K, dist) in enumerate(zip(points_2d, camera_matrices, dist_coeffs)):\n",
    "        pts = np.array([pt], dtype=np.float32).reshape(-1, 1, 2)\n",
    "        undistorted = cv2.undistortPoints(pts, K, dist, None, K).reshape(-1, 2)\n",
    "        undistorted_points.append(undistorted[0])\n",
    "\n",
    "    # conf 높은 순으로 index 정렬\n",
    "    sorted_indices = sorted(range(len(conf)), key=lambda i: conf[i], reverse=True)\n",
    "    \n",
    "    # 최소 두 카메라를 선택하여 삼각화 수행: (0,0)이 아닌 카메라 2개 찾기\n",
    "    cam_idx = []\n",
    "    points = []\n",
    "    cnt = 0\n",
    "    for i in sorted_indices:\n",
    "        if(conf[i] > 0.25):\n",
    "            cam_idx.append(i)\n",
    "            points.append(np.array(undistorted_points[i], dtype=np.float32).reshape(2, 1))\n",
    "            cnt += 1\n",
    "\n",
    "    if(cnt < 2):\n",
    "        return [0.0, 0.0, 0.0]\n",
    "    else:   \n",
    "        # Triangulation: 2D 좌표에서 3D 좌표 계산\n",
    "        triangulated_point = cv2.triangulatePoints(\n",
    "            projection_matrices[cam_idx[0]], projection_matrices[cam_idx[1]],\n",
    "            points[0], points[1]\n",
    "        )\n",
    "    \n",
    "        # 동차 좌표를 디카르트 좌표로 변환\n",
    "        triangulated_point /= triangulated_point[3]\n",
    "\n",
    "        # square_size 를 곱해서 실제 위치 계산\n",
    "        triangulated_point = triangulated_point * square_size\n",
    "\n",
    "        return triangulated_point[:3].flatten()\n",
    "\n",
    "# Load points from file and process\n",
    "points_data = np.loadtxt(input_file, delimiter=\"\\t\")  # Load the data from file\n",
    "\n",
    "# Extract 2D points and confidences\n",
    "triangulated_points = []\n",
    "for row in points_data:\n",
    "    triangulated_row = []  # Store triangulated points for one row\n",
    "    for i in range(keypoint_cnt):\n",
    "        points_2d = []\n",
    "        conf = []\n",
    "        for j in range(camera_cnt):\n",
    "            x, y, confidence = row[j*keypoint_cnt*3 + i*3 : j*keypoint_cnt*3 + i*3 + 3]\n",
    "            points_2d.append(x)\n",
    "            points_2d.append(y)\n",
    "            conf.append(confidence)\n",
    "        \n",
    "        point_3d = triangulate_points(points_2d, conf, camera_cnt)\n",
    "        transformed_point = transform_point(point_3d) # 카메라 3을 z축 기준으로 전환\n",
    "        \n",
    "        triangulated_row.extend(transformed_point)\n",
    "    \n",
    "    triangulated_points.append(triangulated_row)\n",
    "\n",
    "# Save results to file\n",
    "np.savetxt(output_file, triangulated_points, fmt=\"%.6f\", comments=\"\", delimiter=\",\")\n",
    "\n",
    "def plot_frame_with_slider(frame_idx):\n",
    "    plt.clf()  # Clear the current figure\n",
    "    fig = plt.figure(figsize=(8, 6))\n",
    "    ax = fig.add_subplot(111, projection='3d')\n",
    "    row = triangulated_points[frame_idx]\n",
    "    colors = plt.cm.tab10(np.arange(len(row) // 3) % 10)  # Use tab10 colormap for distinct colors\n",
    "    for i, color in zip(range(0, len(row), 3), colors):\n",
    "        x, y, z = row[i], row[i + 1], row[i + 2]\n",
    "        ax.scatter(x, y, z, c=[color], marker='o')\n",
    "    \n",
    "    ax.set_xlabel('X-axis')\n",
    "    ax.set_ylabel('Y-axis')\n",
    "    ax.set_zlabel('Z-axis')\n",
    "    ax.set_title(f\"3D Points - Frame {frame_idx + 1}\")\n",
    "    \n",
    "    # x, y, z 축 범위 설정\n",
    "    ax.set_xlim(-10, 10)  # x축 범위\n",
    "    ax.set_ylim(-10, 10)  # y축 범위\n",
    "    ax.set_zlim(-5, 10)  # z축 범위\n",
    "    \n",
    "    plt.show()\n",
    "\n",
    "# Create an interactive slider\n",
    "interactive_plot = interactive(plot_frame_with_slider, frame_idx=(0, len(triangulated_points) - 1))\n",
    "display(interactive_plot)"
   ]
  },
  {
   "cell_type": "code",
   "execution_count": 15,
   "id": "274af0fc-4ef6-4ffc-988d-dfb798904cfb",
   "metadata": {},
   "outputs": [
    {
     "name": "stdout",
     "output_type": "stream",
     "text": [
      "애니메이션이 points_animation.mp4 파일로 저장되었습니다.\n"
     ]
    }
   ],
   "source": [
    "import numpy as np\n",
    "import matplotlib.pyplot as plt\n",
    "from mpl_toolkits.mplot3d import Axes3D\n",
    "from matplotlib.animation import FuncAnimation, FFMpegWriter\n",
    "\n",
    "# CSV 파일에서 데이터 읽기\n",
    "data = np.loadtxt('triangulated_points.csv', delimiter=',')  # CSV 파일 읽기\n",
    "\n",
    "# 데이터 구조 확인\n",
    "num_time_steps = data.shape[0]  # 시간 스텝 수 (행의 수)\n",
    "num_points = 9  # 한 줄에 9개의 (x, y, z) 쌍\n",
    "\n",
    "# 데이터를 (시간, 9, 3) 형태로 변환\n",
    "data = data.reshape(num_time_steps, num_points, 3)\n",
    "\n",
    "# 그래픽 창 표시 없이 백엔드 설정\n",
    "import matplotlib\n",
    "matplotlib.use('Agg')  # 그래픽 창을 띄우지 않음\n",
    "\n",
    "# 3D 플롯 설정\n",
    "fig = plt.figure(figsize=(12, 8))\n",
    "ax = fig.add_subplot(111, projection='3d')\n",
    "\n",
    "# 축 설정\n",
    "ax.set_xlim(np.min(data[:, :, 0]) - 0.1, np.max(data[:, :, 0]) + 0.1)\n",
    "ax.set_ylim(np.min(data[:, :, 1]) - 0.1, np.max(data[:, :, 1]) + 0.1)\n",
    "ax.set_zlim(np.min(data[:, :, 2]) - 0.1, np.max(data[:, :, 2]) + 0.1)\n",
    "ax.set_xlabel('X-axis')\n",
    "ax.set_ylabel('Y-axis')\n",
    "ax.set_zlabel('Z-axis')\n",
    "ax.set_title('Animated Movement of 9 Points Over Time')\n",
    "\n",
    "# 각 점을 나타낼 스캐터 객체 생성\n",
    "scatters = [ax.scatter([], [], [], label=f'Point {i+1}') for i in range(num_points)]\n",
    "ax.legend(loc='upper left', bbox_to_anchor=(1.05, 1.0))\n",
    "\n",
    "# 초기 프레임 설정\n",
    "def init():\n",
    "    for scatter in scatters:\n",
    "        scatter._offsets3d = ([], [], [])\n",
    "    return scatters\n",
    "\n",
    "# 각 프레임 업데이트\n",
    "def update(frame):\n",
    "    for i, scatter in enumerate(scatters):\n",
    "        x = data[frame, i, 0]\n",
    "        y = data[frame, i, 1]\n",
    "        z = data[frame, i, 2]\n",
    "        scatter._offsets3d = ([x], [y], [z])\n",
    "    return scatters\n",
    "\n",
    "# 애니메이션 생성\n",
    "ani = FuncAnimation(\n",
    "    fig,\n",
    "    update,\n",
    "    frames=num_time_steps,\n",
    "    init_func=init,\n",
    "    blit=False,\n",
    "    interval=100  # 프레임당 시간(ms)\n",
    ")\n",
    "\n",
    "# 애니메이션 저장\n",
    "output_file = 'results.mp4'\n",
    "writer = FFMpegWriter(fps=10, metadata={'title': '3D Point Animation'})\n",
    "ani.save(output_file, writer=writer)\n",
    "\n",
    "print(f\"애니메이션이 {output_file} 파일로 저장되었습니다.\")\n"
   ]
  },
  {
   "cell_type": "code",
   "execution_count": 6,
   "id": "333c3cdd-e89b-4e62-b3fa-a830573a3ee3",
   "metadata": {},
   "outputs": [
    {
     "name": "stdout",
     "output_type": "stream",
     "text": [
      "애니메이션이 points_with_lines_animation.mp4 파일로 저장되었습니다.\n"
     ]
    }
   ],
   "source": [
    "import numpy as np\n",
    "import matplotlib.pyplot as plt\n",
    "from mpl_toolkits.mplot3d import Axes3D\n",
    "from matplotlib.animation import FuncAnimation, FFMpegWriter\n",
    "\n",
    "# CSV 파일에서 데이터 읽기\n",
    "data = np.loadtxt('triangulated_points.csv', delimiter=',')\n",
    "\n",
    "# 데이터 구조 확인\n",
    "num_time_steps = data.shape[0]  # 시간 스텝 수 (행의 수)\n",
    "num_points = 9  # 한 줄에 9개의 (x, y, z) 쌍\n",
    "\n",
    "# 데이터를 (시간, 9, 3) 형태로 변환\n",
    "data = data.reshape(num_time_steps, num_points, 3)\n",
    "\n",
    "# 그래픽 창 표시 없이 백엔드 설정\n",
    "import matplotlib\n",
    "matplotlib.use('Agg')  # 그래픽 창을 띄우지 않음\n",
    "\n",
    "# 3D 플롯 설정\n",
    "fig = plt.figure(figsize=(12, 8))\n",
    "ax = fig.add_subplot(111, projection='3d')\n",
    "\n",
    "# 축 설정\n",
    "ax.set_xlim(np.min(data[:, :, 0]) - 0.1, np.max(data[:, :, 0]) + 0.1)\n",
    "ax.set_ylim(np.min(data[:, :, 1]) - 0.1, np.max(data[:, :, 1]) + 0.1)\n",
    "# ax.set_zlim(np.min(data[:, :, 2]) - 0.1, np.max(data[:, :, 2]) + 0.1)\n",
    "ax.set_zlim(-1, 10)\n",
    "ax.set_xlabel('X-axis')\n",
    "ax.set_ylabel('Y-axis')\n",
    "ax.set_zlabel('Z-axis')\n",
    "ax.set_title('Animated Movement of 9 Points with Lines')\n",
    "\n",
    "# 각 점을 나타낼 스캐터 객체 생성\n",
    "scatters = [ax.scatter([], [], [], label=f'Point {i+1}') for i in range(num_points)]\n",
    "lines = [ax.plot([], [], [], linewidth=1.5)[0] for _ in range(8)]  # 8개의 선 추가\n",
    "ax.legend(loc='upper left', bbox_to_anchor=(1.05, 1.0))\n",
    "\n",
    "# 선을 이을 인덱스 (0부터 시작)\n",
    "line_indices = [\n",
    "    (0, 1),  # Point 1 ↔ Point 2\n",
    "    (1, 3),  # Point 2 ↔ Point 4\n",
    "    (2, 3),  # Point 3 ↔ Point 4\n",
    "    (3, 4),  # Point 4 ↔ Point 5\n",
    "    (3, 5),  # Point 4 ↔ Point 6\n",
    "    (1, 6),  # Point 2 ↔ Point 7\n",
    "    (1, 7),  # Point 2 ↔ Point 8\n",
    "    (2, 8),  # Point 3 ↔ Point 9\n",
    "]\n",
    "\n",
    "# 초기 프레임 설정\n",
    "def init():\n",
    "    for scatter in scatters:\n",
    "        scatter._offsets3d = ([], [], [])\n",
    "    for line in lines:\n",
    "        line.set_data([], [])\n",
    "        line.set_3d_properties([])\n",
    "    return scatters + lines\n",
    "\n",
    "# 각 프레임 업데이트\n",
    "def update(frame):\n",
    "    for i, scatter in enumerate(scatters):\n",
    "        x = data[frame, i, 0]\n",
    "        y = data[frame, i, 1]\n",
    "        z = data[frame, i, 2]\n",
    "        scatter._offsets3d = ([x], [y], [z])\n",
    "    \n",
    "    for i, (start, end) in enumerate(line_indices):\n",
    "        x = [data[frame, start, 0], data[frame, end, 0]]\n",
    "        y = [data[frame, start, 1], data[frame, end, 1]]\n",
    "        z = [data[frame, start, 2], data[frame, end, 2]]\n",
    "        lines[i].set_data(x, y)\n",
    "        lines[i].set_3d_properties(z)\n",
    "    \n",
    "    return scatters + lines\n",
    "\n",
    "# 애니메이션 생성\n",
    "ani = FuncAnimation(\n",
    "    fig,\n",
    "    update,\n",
    "    frames=num_time_steps,\n",
    "    init_func=init,\n",
    "    blit=False,\n",
    "    interval=100  # 프레임당 시간(ms)\n",
    ")\n",
    "\n",
    "# 애니메이션 저장\n",
    "output_file = 'points_with_lines_animation.mp4'\n",
    "writer = FFMpegWriter(fps=10, metadata={'title': '3D Point Animation with Lines'})\n",
    "ani.save(output_file, writer=writer)\n",
    "\n",
    "print(f\"애니메이션이 {output_file} 파일로 저장되었습니다.\")\n"
   ]
  },
  {
   "cell_type": "code",
   "execution_count": 21,
   "id": "1699cde9-b3ca-4fac-b6a5-05331454532c",
   "metadata": {},
   "outputs": [
    {
     "data": {
      "application/vnd.plotly.v1+json": {
       "config": {
        "plotlyServerURL": "https://plot.ly"
       },
       "data": [
        {
         "marker": {
          "color": "blue",
          "opacity": 0.8,
          "size": 8
         },
         "mode": "markers+text",
         "text": [
          "Point 1",
          "Point 2",
          "Point 3",
          "Point 4",
          "Point 5",
          "Point 6",
          "Point 7",
          "Point 8"
         ],
         "textposition": "top center",
         "type": "scatter3d",
         "x": [
          -7.362016,
          2.184219,
          -1.529306,
          6.707103,
          -7.143985,
          2.351288,
          -1.174719,
          6.96037
         ],
         "y": [
          1.721834,
          7.047238,
          -7.108583,
          -1.660489,
          1.759002,
          6.455186,
          -6.499468,
          -1.625561
         ],
         "z": [
          0.000196,
          -0.000212,
          -0.000218,
          0.000234,
          -5.001644,
          -6.320889,
          -6.144917,
          -7.108904
         ]
        },
        {
         "line": {
          "color": "red",
          "width": 3
         },
         "mode": "lines",
         "showlegend": false,
         "type": "scatter3d",
         "x": [
          -7.362016,
          2.184219
         ],
         "y": [
          1.721834,
          7.047238
         ],
         "z": [
          0.000196,
          -0.000212
         ]
        },
        {
         "line": {
          "color": "red",
          "width": 3
         },
         "mode": "lines",
         "showlegend": false,
         "type": "scatter3d",
         "x": [
          6.707103,
          -1.529306
         ],
         "y": [
          -1.660489,
          -7.108583
         ],
         "z": [
          0.000234,
          -0.000218
         ]
        },
        {
         "line": {
          "color": "red",
          "width": 3
         },
         "mode": "lines",
         "showlegend": false,
         "type": "scatter3d",
         "x": [
          2.184219,
          6.707103
         ],
         "y": [
          7.047238,
          -1.660489
         ],
         "z": [
          -0.000212,
          0.000234
         ]
        },
        {
         "line": {
          "color": "red",
          "width": 3
         },
         "mode": "lines",
         "showlegend": false,
         "type": "scatter3d",
         "x": [
          -1.529306,
          -7.362016
         ],
         "y": [
          -7.108583,
          1.721834
         ],
         "z": [
          -0.000218,
          0.000196
         ]
        },
        {
         "line": {
          "color": "red",
          "width": 3
         },
         "mode": "lines",
         "showlegend": false,
         "type": "scatter3d",
         "x": [
          -7.143985,
          2.351288
         ],
         "y": [
          1.759002,
          6.455186
         ],
         "z": [
          -5.001644,
          -6.320889
         ]
        },
        {
         "line": {
          "color": "red",
          "width": 3
         },
         "mode": "lines",
         "showlegend": false,
         "type": "scatter3d",
         "x": [
          -7.143985,
          -1.174719
         ],
         "y": [
          1.759002,
          -6.499468
         ],
         "z": [
          -5.001644,
          -6.144917
         ]
        },
        {
         "line": {
          "color": "red",
          "width": 3
         },
         "mode": "lines",
         "showlegend": false,
         "type": "scatter3d",
         "x": [
          -1.174719,
          6.96037
         ],
         "y": [
          -6.499468,
          -1.625561
         ],
         "z": [
          -6.144917,
          -7.108904
         ]
        },
        {
         "line": {
          "color": "red",
          "width": 3
         },
         "mode": "lines",
         "showlegend": false,
         "type": "scatter3d",
         "x": [
          6.96037,
          2.351288
         ],
         "y": [
          -1.625561,
          6.455186
         ],
         "z": [
          -7.108904,
          -6.320889
         ]
        }
       ],
       "layout": {
        "scene": {
         "xaxis": {
          "title": {
           "text": "X Axis"
          }
         },
         "yaxis": {
          "title": {
           "text": "Y Axis"
          }
         },
         "zaxis": {
          "title": {
           "text": "Z Axis"
          }
         }
        },
        "template": {
         "data": {
          "bar": [
           {
            "error_x": {
             "color": "#2a3f5f"
            },
            "error_y": {
             "color": "#2a3f5f"
            },
            "marker": {
             "line": {
              "color": "#E5ECF6",
              "width": 0.5
             },
             "pattern": {
              "fillmode": "overlay",
              "size": 10,
              "solidity": 0.2
             }
            },
            "type": "bar"
           }
          ],
          "barpolar": [
           {
            "marker": {
             "line": {
              "color": "#E5ECF6",
              "width": 0.5
             },
             "pattern": {
              "fillmode": "overlay",
              "size": 10,
              "solidity": 0.2
             }
            },
            "type": "barpolar"
           }
          ],
          "carpet": [
           {
            "aaxis": {
             "endlinecolor": "#2a3f5f",
             "gridcolor": "white",
             "linecolor": "white",
             "minorgridcolor": "white",
             "startlinecolor": "#2a3f5f"
            },
            "baxis": {
             "endlinecolor": "#2a3f5f",
             "gridcolor": "white",
             "linecolor": "white",
             "minorgridcolor": "white",
             "startlinecolor": "#2a3f5f"
            },
            "type": "carpet"
           }
          ],
          "choropleth": [
           {
            "colorbar": {
             "outlinewidth": 0,
             "ticks": ""
            },
            "type": "choropleth"
           }
          ],
          "contour": [
           {
            "colorbar": {
             "outlinewidth": 0,
             "ticks": ""
            },
            "colorscale": [
             [
              0,
              "#0d0887"
             ],
             [
              0.1111111111111111,
              "#46039f"
             ],
             [
              0.2222222222222222,
              "#7201a8"
             ],
             [
              0.3333333333333333,
              "#9c179e"
             ],
             [
              0.4444444444444444,
              "#bd3786"
             ],
             [
              0.5555555555555556,
              "#d8576b"
             ],
             [
              0.6666666666666666,
              "#ed7953"
             ],
             [
              0.7777777777777778,
              "#fb9f3a"
             ],
             [
              0.8888888888888888,
              "#fdca26"
             ],
             [
              1,
              "#f0f921"
             ]
            ],
            "type": "contour"
           }
          ],
          "contourcarpet": [
           {
            "colorbar": {
             "outlinewidth": 0,
             "ticks": ""
            },
            "type": "contourcarpet"
           }
          ],
          "heatmap": [
           {
            "colorbar": {
             "outlinewidth": 0,
             "ticks": ""
            },
            "colorscale": [
             [
              0,
              "#0d0887"
             ],
             [
              0.1111111111111111,
              "#46039f"
             ],
             [
              0.2222222222222222,
              "#7201a8"
             ],
             [
              0.3333333333333333,
              "#9c179e"
             ],
             [
              0.4444444444444444,
              "#bd3786"
             ],
             [
              0.5555555555555556,
              "#d8576b"
             ],
             [
              0.6666666666666666,
              "#ed7953"
             ],
             [
              0.7777777777777778,
              "#fb9f3a"
             ],
             [
              0.8888888888888888,
              "#fdca26"
             ],
             [
              1,
              "#f0f921"
             ]
            ],
            "type": "heatmap"
           }
          ],
          "heatmapgl": [
           {
            "colorbar": {
             "outlinewidth": 0,
             "ticks": ""
            },
            "colorscale": [
             [
              0,
              "#0d0887"
             ],
             [
              0.1111111111111111,
              "#46039f"
             ],
             [
              0.2222222222222222,
              "#7201a8"
             ],
             [
              0.3333333333333333,
              "#9c179e"
             ],
             [
              0.4444444444444444,
              "#bd3786"
             ],
             [
              0.5555555555555556,
              "#d8576b"
             ],
             [
              0.6666666666666666,
              "#ed7953"
             ],
             [
              0.7777777777777778,
              "#fb9f3a"
             ],
             [
              0.8888888888888888,
              "#fdca26"
             ],
             [
              1,
              "#f0f921"
             ]
            ],
            "type": "heatmapgl"
           }
          ],
          "histogram": [
           {
            "marker": {
             "pattern": {
              "fillmode": "overlay",
              "size": 10,
              "solidity": 0.2
             }
            },
            "type": "histogram"
           }
          ],
          "histogram2d": [
           {
            "colorbar": {
             "outlinewidth": 0,
             "ticks": ""
            },
            "colorscale": [
             [
              0,
              "#0d0887"
             ],
             [
              0.1111111111111111,
              "#46039f"
             ],
             [
              0.2222222222222222,
              "#7201a8"
             ],
             [
              0.3333333333333333,
              "#9c179e"
             ],
             [
              0.4444444444444444,
              "#bd3786"
             ],
             [
              0.5555555555555556,
              "#d8576b"
             ],
             [
              0.6666666666666666,
              "#ed7953"
             ],
             [
              0.7777777777777778,
              "#fb9f3a"
             ],
             [
              0.8888888888888888,
              "#fdca26"
             ],
             [
              1,
              "#f0f921"
             ]
            ],
            "type": "histogram2d"
           }
          ],
          "histogram2dcontour": [
           {
            "colorbar": {
             "outlinewidth": 0,
             "ticks": ""
            },
            "colorscale": [
             [
              0,
              "#0d0887"
             ],
             [
              0.1111111111111111,
              "#46039f"
             ],
             [
              0.2222222222222222,
              "#7201a8"
             ],
             [
              0.3333333333333333,
              "#9c179e"
             ],
             [
              0.4444444444444444,
              "#bd3786"
             ],
             [
              0.5555555555555556,
              "#d8576b"
             ],
             [
              0.6666666666666666,
              "#ed7953"
             ],
             [
              0.7777777777777778,
              "#fb9f3a"
             ],
             [
              0.8888888888888888,
              "#fdca26"
             ],
             [
              1,
              "#f0f921"
             ]
            ],
            "type": "histogram2dcontour"
           }
          ],
          "mesh3d": [
           {
            "colorbar": {
             "outlinewidth": 0,
             "ticks": ""
            },
            "type": "mesh3d"
           }
          ],
          "parcoords": [
           {
            "line": {
             "colorbar": {
              "outlinewidth": 0,
              "ticks": ""
             }
            },
            "type": "parcoords"
           }
          ],
          "pie": [
           {
            "automargin": true,
            "type": "pie"
           }
          ],
          "scatter": [
           {
            "fillpattern": {
             "fillmode": "overlay",
             "size": 10,
             "solidity": 0.2
            },
            "type": "scatter"
           }
          ],
          "scatter3d": [
           {
            "line": {
             "colorbar": {
              "outlinewidth": 0,
              "ticks": ""
             }
            },
            "marker": {
             "colorbar": {
              "outlinewidth": 0,
              "ticks": ""
             }
            },
            "type": "scatter3d"
           }
          ],
          "scattercarpet": [
           {
            "marker": {
             "colorbar": {
              "outlinewidth": 0,
              "ticks": ""
             }
            },
            "type": "scattercarpet"
           }
          ],
          "scattergeo": [
           {
            "marker": {
             "colorbar": {
              "outlinewidth": 0,
              "ticks": ""
             }
            },
            "type": "scattergeo"
           }
          ],
          "scattergl": [
           {
            "marker": {
             "colorbar": {
              "outlinewidth": 0,
              "ticks": ""
             }
            },
            "type": "scattergl"
           }
          ],
          "scattermapbox": [
           {
            "marker": {
             "colorbar": {
              "outlinewidth": 0,
              "ticks": ""
             }
            },
            "type": "scattermapbox"
           }
          ],
          "scatterpolar": [
           {
            "marker": {
             "colorbar": {
              "outlinewidth": 0,
              "ticks": ""
             }
            },
            "type": "scatterpolar"
           }
          ],
          "scatterpolargl": [
           {
            "marker": {
             "colorbar": {
              "outlinewidth": 0,
              "ticks": ""
             }
            },
            "type": "scatterpolargl"
           }
          ],
          "scatterternary": [
           {
            "marker": {
             "colorbar": {
              "outlinewidth": 0,
              "ticks": ""
             }
            },
            "type": "scatterternary"
           }
          ],
          "surface": [
           {
            "colorbar": {
             "outlinewidth": 0,
             "ticks": ""
            },
            "colorscale": [
             [
              0,
              "#0d0887"
             ],
             [
              0.1111111111111111,
              "#46039f"
             ],
             [
              0.2222222222222222,
              "#7201a8"
             ],
             [
              0.3333333333333333,
              "#9c179e"
             ],
             [
              0.4444444444444444,
              "#bd3786"
             ],
             [
              0.5555555555555556,
              "#d8576b"
             ],
             [
              0.6666666666666666,
              "#ed7953"
             ],
             [
              0.7777777777777778,
              "#fb9f3a"
             ],
             [
              0.8888888888888888,
              "#fdca26"
             ],
             [
              1,
              "#f0f921"
             ]
            ],
            "type": "surface"
           }
          ],
          "table": [
           {
            "cells": {
             "fill": {
              "color": "#EBF0F8"
             },
             "line": {
              "color": "white"
             }
            },
            "header": {
             "fill": {
              "color": "#C8D4E3"
             },
             "line": {
              "color": "white"
             }
            },
            "type": "table"
           }
          ]
         },
         "layout": {
          "annotationdefaults": {
           "arrowcolor": "#2a3f5f",
           "arrowhead": 0,
           "arrowwidth": 1
          },
          "autotypenumbers": "strict",
          "coloraxis": {
           "colorbar": {
            "outlinewidth": 0,
            "ticks": ""
           }
          },
          "colorscale": {
           "diverging": [
            [
             0,
             "#8e0152"
            ],
            [
             0.1,
             "#c51b7d"
            ],
            [
             0.2,
             "#de77ae"
            ],
            [
             0.3,
             "#f1b6da"
            ],
            [
             0.4,
             "#fde0ef"
            ],
            [
             0.5,
             "#f7f7f7"
            ],
            [
             0.6,
             "#e6f5d0"
            ],
            [
             0.7,
             "#b8e186"
            ],
            [
             0.8,
             "#7fbc41"
            ],
            [
             0.9,
             "#4d9221"
            ],
            [
             1,
             "#276419"
            ]
           ],
           "sequential": [
            [
             0,
             "#0d0887"
            ],
            [
             0.1111111111111111,
             "#46039f"
            ],
            [
             0.2222222222222222,
             "#7201a8"
            ],
            [
             0.3333333333333333,
             "#9c179e"
            ],
            [
             0.4444444444444444,
             "#bd3786"
            ],
            [
             0.5555555555555556,
             "#d8576b"
            ],
            [
             0.6666666666666666,
             "#ed7953"
            ],
            [
             0.7777777777777778,
             "#fb9f3a"
            ],
            [
             0.8888888888888888,
             "#fdca26"
            ],
            [
             1,
             "#f0f921"
            ]
           ],
           "sequentialminus": [
            [
             0,
             "#0d0887"
            ],
            [
             0.1111111111111111,
             "#46039f"
            ],
            [
             0.2222222222222222,
             "#7201a8"
            ],
            [
             0.3333333333333333,
             "#9c179e"
            ],
            [
             0.4444444444444444,
             "#bd3786"
            ],
            [
             0.5555555555555556,
             "#d8576b"
            ],
            [
             0.6666666666666666,
             "#ed7953"
            ],
            [
             0.7777777777777778,
             "#fb9f3a"
            ],
            [
             0.8888888888888888,
             "#fdca26"
            ],
            [
             1,
             "#f0f921"
            ]
           ]
          },
          "colorway": [
           "#636efa",
           "#EF553B",
           "#00cc96",
           "#ab63fa",
           "#FFA15A",
           "#19d3f3",
           "#FF6692",
           "#B6E880",
           "#FF97FF",
           "#FECB52"
          ],
          "font": {
           "color": "#2a3f5f"
          },
          "geo": {
           "bgcolor": "white",
           "lakecolor": "white",
           "landcolor": "#E5ECF6",
           "showlakes": true,
           "showland": true,
           "subunitcolor": "white"
          },
          "hoverlabel": {
           "align": "left"
          },
          "hovermode": "closest",
          "mapbox": {
           "style": "light"
          },
          "paper_bgcolor": "white",
          "plot_bgcolor": "#E5ECF6",
          "polar": {
           "angularaxis": {
            "gridcolor": "white",
            "linecolor": "white",
            "ticks": ""
           },
           "bgcolor": "#E5ECF6",
           "radialaxis": {
            "gridcolor": "white",
            "linecolor": "white",
            "ticks": ""
           }
          },
          "scene": {
           "xaxis": {
            "backgroundcolor": "#E5ECF6",
            "gridcolor": "white",
            "gridwidth": 2,
            "linecolor": "white",
            "showbackground": true,
            "ticks": "",
            "zerolinecolor": "white"
           },
           "yaxis": {
            "backgroundcolor": "#E5ECF6",
            "gridcolor": "white",
            "gridwidth": 2,
            "linecolor": "white",
            "showbackground": true,
            "ticks": "",
            "zerolinecolor": "white"
           },
           "zaxis": {
            "backgroundcolor": "#E5ECF6",
            "gridcolor": "white",
            "gridwidth": 2,
            "linecolor": "white",
            "showbackground": true,
            "ticks": "",
            "zerolinecolor": "white"
           }
          },
          "shapedefaults": {
           "line": {
            "color": "#2a3f5f"
           }
          },
          "ternary": {
           "aaxis": {
            "gridcolor": "white",
            "linecolor": "white",
            "ticks": ""
           },
           "baxis": {
            "gridcolor": "white",
            "linecolor": "white",
            "ticks": ""
           },
           "bgcolor": "#E5ECF6",
           "caxis": {
            "gridcolor": "white",
            "linecolor": "white",
            "ticks": ""
           }
          },
          "title": {
           "x": 0.05
          },
          "xaxis": {
           "automargin": true,
           "gridcolor": "white",
           "linecolor": "white",
           "ticks": "",
           "title": {
            "standoff": 15
           },
           "zerolinecolor": "white",
           "zerolinewidth": 2
          },
          "yaxis": {
           "automargin": true,
           "gridcolor": "white",
           "linecolor": "white",
           "ticks": "",
           "title": {
            "standoff": 15
           },
           "zerolinecolor": "white",
           "zerolinewidth": 2
          }
         }
        },
        "title": {
         "text": "3D Scatter Plot with Connected Lines"
        }
       }
      },
      "image/png": "[encoded data removed]",
      "text/html": [
       "<div>                            <div id=\"af9100ab-45b6-4ad5-bbf0-4a3bc807fea7\" class=\"plotly-graph-div\" style=\"height:525px; width:100%;\"></div>            <script type=\"text/javascript\">                require([\"plotly\"], function(Plotly) {                    window.PLOTLYENV=window.PLOTLYENV || {};                                    if (document.getElementById(\"af9100ab-45b6-4ad5-bbf0-4a3bc807fea7\")) {                    Plotly.newPlot(                        \"af9100ab-45b6-4ad5-bbf0-4a3bc807fea7\",                        [{\"marker\":{\"color\":\"blue\",\"opacity\":0.8,\"size\":8},\"mode\":\"markers+text\",\"text\":[\"Point 1\",\"Point 2\",\"Point 3\",\"Point 4\",\"Point 5\",\"Point 6\",\"Point 7\",\"Point 8\"],\"textposition\":\"top center\",\"x\":[-7.362016,2.184219,-1.529306,6.707103,-7.143985,2.351288,-1.174719,6.96037],\"y\":[1.721834,7.047238,-7.108583,-1.660489,1.759002,6.455186,-6.499468,-1.625561],\"z\":[0.000196,-0.000212,-0.000218,0.000234,-5.001644,-6.320889,-6.144917,-7.108904],\"type\":\"scatter3d\"},{\"line\":{\"color\":\"red\",\"width\":3},\"mode\":\"lines\",\"showlegend\":false,\"x\":[-7.362016,2.184219],\"y\":[1.721834,7.047238],\"z\":[0.000196,-0.000212],\"type\":\"scatter3d\"},{\"line\":{\"color\":\"red\",\"width\":3},\"mode\":\"lines\",\"showlegend\":false,\"x\":[6.707103,-1.529306],\"y\":[-1.660489,-7.108583],\"z\":[0.000234,-0.000218],\"type\":\"scatter3d\"},{\"line\":{\"color\":\"red\",\"width\":3},\"mode\":\"lines\",\"showlegend\":false,\"x\":[2.184219,6.707103],\"y\":[7.047238,-1.660489],\"z\":[-0.000212,0.000234],\"type\":\"scatter3d\"},{\"line\":{\"color\":\"red\",\"width\":3},\"mode\":\"lines\",\"showlegend\":false,\"x\":[-1.529306,-7.362016],\"y\":[-7.108583,1.721834],\"z\":[-0.000218,0.000196],\"type\":\"scatter3d\"},{\"line\":{\"color\":\"red\",\"width\":3},\"mode\":\"lines\",\"showlegend\":false,\"x\":[-7.143985,2.351288],\"y\":[1.759002,6.455186],\"z\":[-5.001644,-6.320889],\"type\":\"scatter3d\"},{\"line\":{\"color\":\"red\",\"width\":3},\"mode\":\"lines\",\"showlegend\":false,\"x\":[-7.143985,-1.174719],\"y\":[1.759002,-6.499468],\"z\":[-5.001644,-6.144917],\"type\":\"scatter3d\"},{\"line\":{\"color\":\"red\",\"width\":3},\"mode\":\"lines\",\"showlegend\":false,\"x\":[-1.174719,6.96037],\"y\":[-6.499468,-1.625561],\"z\":[-6.144917,-7.108904],\"type\":\"scatter3d\"},{\"line\":{\"color\":\"red\",\"width\":3},\"mode\":\"lines\",\"showlegend\":false,\"x\":[6.96037,2.351288],\"y\":[-1.625561,6.455186],\"z\":[-7.108904,-6.320889],\"type\":\"scatter3d\"}],                        {\"template\":{\"data\":{\"histogram2dcontour\":[{\"type\":\"histogram2dcontour\",\"colorbar\":{\"outlinewidth\":0,\"ticks\":\"\"},\"colorscale\":[[0.0,\"#0d0887\"],[0.1111111111111111,\"#46039f\"],[0.2222222222222222,\"#7201a8\"],[0.3333333333333333,\"#9c179e\"],[0.4444444444444444,\"#bd3786\"],[0.5555555555555556,\"#d8576b\"],[0.6666666666666666,\"#ed7953\"],[0.7777777777777778,\"#fb9f3a\"],[0.8888888888888888,\"#fdca26\"],[1.0,\"#f0f921\"]]}],\"choropleth\":[{\"type\":\"choropleth\",\"colorbar\":{\"outlinewidth\":0,\"ticks\":\"\"}}],\"histogram2d\":[{\"type\":\"histogram2d\",\"colorbar\":{\"outlinewidth\":0,\"ticks\":\"\"},\"colorscale\":[[0.0,\"#0d0887\"],[0.1111111111111111,\"#46039f\"],[0.2222222222222222,\"#7201a8\"],[0.3333333333333333,\"#9c179e\"],[0.4444444444444444,\"#bd3786\"],[0.5555555555555556,\"#d8576b\"],[0.6666666666666666,\"#ed7953\"],[0.7777777777777778,\"#fb9f3a\"],[0.8888888888888888,\"#fdca26\"],[1.0,\"#f0f921\"]]}],\"heatmap\":[{\"type\":\"heatmap\",\"colorbar\":{\"outlinewidth\":0,\"ticks\":\"\"},\"colorscale\":[[0.0,\"#0d0887\"],[0.1111111111111111,\"#46039f\"],[0.2222222222222222,\"#7201a8\"],[0.3333333333333333,\"#9c179e\"],[0.4444444444444444,\"#bd3786\"],[0.5555555555555556,\"#d8576b\"],[0.6666666666666666,\"#ed7953\"],[0.7777777777777778,\"#fb9f3a\"],[0.8888888888888888,\"#fdca26\"],[1.0,\"#f0f921\"]]}],\"heatmapgl\":[{\"type\":\"heatmapgl\",\"colorbar\":{\"outlinewidth\":0,\"ticks\":\"\"},\"colorscale\":[[0.0,\"#0d0887\"],[0.1111111111111111,\"#46039f\"],[0.2222222222222222,\"#7201a8\"],[0.3333333333333333,\"#9c179e\"],[0.4444444444444444,\"#bd3786\"],[0.5555555555555556,\"#d8576b\"],[0.6666666666666666,\"#ed7953\"],[0.7777777777777778,\"#fb9f3a\"],[0.8888888888888888,\"#fdca26\"],[1.0,\"#f0f921\"]]}],\"contourcarpet\":[{\"type\":\"contourcarpet\",\"colorbar\":{\"outlinewidth\":0,\"ticks\":\"\"}}],\"contour\":[{\"type\":\"contour\",\"colorbar\":{\"outlinewidth\":0,\"ticks\":\"\"},\"colorscale\":[[0.0,\"#0d0887\"],[0.1111111111111111,\"#46039f\"],[0.2222222222222222,\"#7201a8\"],[0.3333333333333333,\"#9c179e\"],[0.4444444444444444,\"#bd3786\"],[0.5555555555555556,\"#d8576b\"],[0.6666666666666666,\"#ed7953\"],[0.7777777777777778,\"#fb9f3a\"],[0.8888888888888888,\"#fdca26\"],[1.0,\"#f0f921\"]]}],\"surface\":[{\"type\":\"surface\",\"colorbar\":{\"outlinewidth\":0,\"ticks\":\"\"},\"colorscale\":[[0.0,\"#0d0887\"],[0.1111111111111111,\"#46039f\"],[0.2222222222222222,\"#7201a8\"],[0.3333333333333333,\"#9c179e\"],[0.4444444444444444,\"#bd3786\"],[0.5555555555555556,\"#d8576b\"],[0.6666666666666666,\"#ed7953\"],[0.7777777777777778,\"#fb9f3a\"],[0.8888888888888888,\"#fdca26\"],[1.0,\"#f0f921\"]]}],\"mesh3d\":[{\"type\":\"mesh3d\",\"colorbar\":{\"outlinewidth\":0,\"ticks\":\"\"}}],\"scatter\":[{\"fillpattern\":{\"fillmode\":\"overlay\",\"size\":10,\"solidity\":0.2},\"type\":\"scatter\"}],\"parcoords\":[{\"type\":\"parcoords\",\"line\":{\"colorbar\":{\"outlinewidth\":0,\"ticks\":\"\"}}}],\"scatterpolargl\":[{\"type\":\"scatterpolargl\",\"marker\":{\"colorbar\":{\"outlinewidth\":0,\"ticks\":\"\"}}}],\"bar\":[{\"error_x\":{\"color\":\"#2a3f5f\"},\"error_y\":{\"color\":\"#2a3f5f\"},\"marker\":{\"line\":{\"color\":\"#E5ECF6\",\"width\":0.5},\"pattern\":{\"fillmode\":\"overlay\",\"size\":10,\"solidity\":0.2}},\"type\":\"bar\"}],\"scattergeo\":[{\"type\":\"scattergeo\",\"marker\":{\"colorbar\":{\"outlinewidth\":0,\"ticks\":\"\"}}}],\"scatterpolar\":[{\"type\":\"scatterpolar\",\"marker\":{\"colorbar\":{\"outlinewidth\":0,\"ticks\":\"\"}}}],\"histogram\":[{\"marker\":{\"pattern\":{\"fillmode\":\"overlay\",\"size\":10,\"solidity\":0.2}},\"type\":\"histogram\"}],\"scattergl\":[{\"type\":\"scattergl\",\"marker\":{\"colorbar\":{\"outlinewidth\":0,\"ticks\":\"\"}}}],\"scatter3d\":[{\"type\":\"scatter3d\",\"line\":{\"colorbar\":{\"outlinewidth\":0,\"ticks\":\"\"}},\"marker\":{\"colorbar\":{\"outlinewidth\":0,\"ticks\":\"\"}}}],\"scattermapbox\":[{\"type\":\"scattermapbox\",\"marker\":{\"colorbar\":{\"outlinewidth\":0,\"ticks\":\"\"}}}],\"scatterternary\":[{\"type\":\"scatterternary\",\"marker\":{\"colorbar\":{\"outlinewidth\":0,\"ticks\":\"\"}}}],\"scattercarpet\":[{\"type\":\"scattercarpet\",\"marker\":{\"colorbar\":{\"outlinewidth\":0,\"ticks\":\"\"}}}],\"carpet\":[{\"aaxis\":{\"endlinecolor\":\"#2a3f5f\",\"gridcolor\":\"white\",\"linecolor\":\"white\",\"minorgridcolor\":\"white\",\"startlinecolor\":\"#2a3f5f\"},\"baxis\":{\"endlinecolor\":\"#2a3f5f\",\"gridcolor\":\"white\",\"linecolor\":\"white\",\"minorgridcolor\":\"white\",\"startlinecolor\":\"#2a3f5f\"},\"type\":\"carpet\"}],\"table\":[{\"cells\":{\"fill\":{\"color\":\"#EBF0F8\"},\"line\":{\"color\":\"white\"}},\"header\":{\"fill\":{\"color\":\"#C8D4E3\"},\"line\":{\"color\":\"white\"}},\"type\":\"table\"}],\"barpolar\":[{\"marker\":{\"line\":{\"color\":\"#E5ECF6\",\"width\":0.5},\"pattern\":{\"fillmode\":\"overlay\",\"size\":10,\"solidity\":0.2}},\"type\":\"barpolar\"}],\"pie\":[{\"automargin\":true,\"type\":\"pie\"}]},\"layout\":{\"autotypenumbers\":\"strict\",\"colorway\":[\"#636efa\",\"#EF553B\",\"#00cc96\",\"#ab63fa\",\"#FFA15A\",\"#19d3f3\",\"#FF6692\",\"#B6E880\",\"#FF97FF\",\"#FECB52\"],\"font\":{\"color\":\"#2a3f5f\"},\"hovermode\":\"closest\",\"hoverlabel\":{\"align\":\"left\"},\"paper_bgcolor\":\"white\",\"plot_bgcolor\":\"#E5ECF6\",\"polar\":{\"bgcolor\":\"#E5ECF6\",\"angularaxis\":{\"gridcolor\":\"white\",\"linecolor\":\"white\",\"ticks\":\"\"},\"radialaxis\":{\"gridcolor\":\"white\",\"linecolor\":\"white\",\"ticks\":\"\"}},\"ternary\":{\"bgcolor\":\"#E5ECF6\",\"aaxis\":{\"gridcolor\":\"white\",\"linecolor\":\"white\",\"ticks\":\"\"},\"baxis\":{\"gridcolor\":\"white\",\"linecolor\":\"white\",\"ticks\":\"\"},\"caxis\":{\"gridcolor\":\"white\",\"linecolor\":\"white\",\"ticks\":\"\"}},\"coloraxis\":{\"colorbar\":{\"outlinewidth\":0,\"ticks\":\"\"}},\"colorscale\":{\"sequential\":[[0.0,\"#0d0887\"],[0.1111111111111111,\"#46039f\"],[0.2222222222222222,\"#7201a8\"],[0.3333333333333333,\"#9c179e\"],[0.4444444444444444,\"#bd3786\"],[0.5555555555555556,\"#d8576b\"],[0.6666666666666666,\"#ed7953\"],[0.7777777777777778,\"#fb9f3a\"],[0.8888888888888888,\"#fdca26\"],[1.0,\"#f0f921\"]],\"sequentialminus\":[[0.0,\"#0d0887\"],[0.1111111111111111,\"#46039f\"],[0.2222222222222222,\"#7201a8\"],[0.3333333333333333,\"#9c179e\"],[0.4444444444444444,\"#bd3786\"],[0.5555555555555556,\"#d8576b\"],[0.6666666666666666,\"#ed7953\"],[0.7777777777777778,\"#fb9f3a\"],[0.8888888888888888,\"#fdca26\"],[1.0,\"#f0f921\"]],\"diverging\":[[0,\"#8e0152\"],[0.1,\"#c51b7d\"],[0.2,\"#de77ae\"],[0.3,\"#f1b6da\"],[0.4,\"#fde0ef\"],[0.5,\"#f7f7f7\"],[0.6,\"#e6f5d0\"],[0.7,\"#b8e186\"],[0.8,\"#7fbc41\"],[0.9,\"#4d9221\"],[1,\"#276419\"]]},\"xaxis\":{\"gridcolor\":\"white\",\"linecolor\":\"white\",\"ticks\":\"\",\"title\":{\"standoff\":15},\"zerolinecolor\":\"white\",\"automargin\":true,\"zerolinewidth\":2},\"yaxis\":{\"gridcolor\":\"white\",\"linecolor\":\"white\",\"ticks\":\"\",\"title\":{\"standoff\":15},\"zerolinecolor\":\"white\",\"automargin\":true,\"zerolinewidth\":2},\"scene\":{\"xaxis\":{\"backgroundcolor\":\"#E5ECF6\",\"gridcolor\":\"white\",\"linecolor\":\"white\",\"showbackground\":true,\"ticks\":\"\",\"zerolinecolor\":\"white\",\"gridwidth\":2},\"yaxis\":{\"backgroundcolor\":\"#E5ECF6\",\"gridcolor\":\"white\",\"linecolor\":\"white\",\"showbackground\":true,\"ticks\":\"\",\"zerolinecolor\":\"white\",\"gridwidth\":2},\"zaxis\":{\"backgroundcolor\":\"#E5ECF6\",\"gridcolor\":\"white\",\"linecolor\":\"white\",\"showbackground\":true,\"ticks\":\"\",\"zerolinecolor\":\"white\",\"gridwidth\":2}},\"shapedefaults\":{\"line\":{\"color\":\"#2a3f5f\"}},\"annotationdefaults\":{\"arrowcolor\":\"#2a3f5f\",\"arrowhead\":0,\"arrowwidth\":1},\"geo\":{\"bgcolor\":\"white\",\"landcolor\":\"#E5ECF6\",\"subunitcolor\":\"white\",\"showland\":true,\"showlakes\":true,\"lakecolor\":\"white\"},\"title\":{\"x\":0.05},\"mapbox\":{\"style\":\"light\"}}},\"scene\":{\"xaxis\":{\"title\":{\"text\":\"X Axis\"}},\"yaxis\":{\"title\":{\"text\":\"Y Axis\"}},\"zaxis\":{\"title\":{\"text\":\"Z Axis\"}}},\"title\":{\"text\":\"3D Scatter Plot with Connected Lines\"}},                        {\"responsive\": true}                    ).then(function(){\n",
       "                            \n",
       "var gd = document.getElementById('af9100ab-45b6-4ad5-bbf0-4a3bc807fea7');\n",
       "var x = new MutationObserver(function (mutations, observer) {{\n",
       "        var display = window.getComputedStyle(gd).display;\n",
       "        if (!display || display === 'none') {{\n",
       "            console.log([gd, 'removed!']);\n",
       "            Plotly.purge(gd);\n",
       "            observer.disconnect();\n",
       "        }}\n",
       "}});\n",
       "\n",
       "// Listen for the removal of the full notebook cells\n",
       "var notebookContainer = gd.closest('#notebook-container');\n",
       "if (notebookContainer) {{\n",
       "    x.observe(notebookContainer, {childList: true});\n",
       "}}\n",
       "\n",
       "// Listen for the clearing of the current output cell\n",
       "var outputEl = gd.closest('.output');\n",
       "if (outputEl) {{\n",
       "    x.observe(outputEl, {childList: true});\n",
       "}}\n",
       "\n",
       "                        })                };                });            </script>        </div>"
      ]
     },
     "metadata": {},
     "output_type": "display_data"
    }
   ],
   "source": [
    "import pandas as pd\n",
    "import plotly.graph_objects as go\n",
    "\n",
    "# CSV 파일 불러오기\n",
    "file_path = '8_edge_result.csv'\n",
    "df = pd.read_csv(file_path, header = None)\n",
    "\n",
    "# Plotly로 3D 산점도 생성\n",
    "fig = go.Figure()\n",
    "\n",
    "# 8개의 점 추가\n",
    "fig.add_trace(go.Scatter3d(\n",
    "    x=df.iloc[:, 0],  # 첫 번째 열 (x 좌표)\n",
    "    y=df.iloc[:, 1],  # 두 번째 열 (y 좌표)\n",
    "    z=df.iloc[:, 2],  # 세 번째 열 (z 좌표)\n",
    "    mode='markers+text',\n",
    "    marker=dict(\n",
    "        size=8,\n",
    "        color='blue',\n",
    "        opacity=0.8\n",
    "    ),\n",
    "    text=[f'Point {i+1}' for i in range(8)],\n",
    "    textposition=\"top center\"\n",
    "))\n",
    "\n",
    "# 선(Line) 연결 관계 정의\n",
    "connections = [\n",
    "    (0, 1), (3, 2), (1, 3), (2, 0),  # 1-2, 2-3, 3-4, 4-1\n",
    "    (4, 5), (4, 6), (6, 7), (7, 5)   # 5-6, 6-7, 7-8, 8-1\n",
    "]\n",
    "\n",
    "# 연결된 선 추가\n",
    "for start, end in connections:\n",
    "    fig.add_trace(go.Scatter3d(\n",
    "        x=[df.iloc[start, 0], df.iloc[end, 0]],\n",
    "        y=[df.iloc[start, 1], df.iloc[end, 1]],\n",
    "        z=[df.iloc[start, 2], df.iloc[end, 2]],\n",
    "        mode='lines',\n",
    "        line=dict(\n",
    "            color='red',\n",
    "            width=3\n",
    "        ),\n",
    "        showlegend=False\n",
    "    ))\n",
    "\n",
    "# 레이아웃 설정\n",
    "fig.update_layout(\n",
    "    scene=dict(\n",
    "        xaxis_title='X Axis',\n",
    "        yaxis_title='Y Axis',\n",
    "        zaxis_title='Z Axis'\n",
    "    ),\n",
    "    title='3D Scatter Plot with Connected Lines'\n",
    ")\n",
    "\n",
    "# 그래프 표시\n",
    "fig.show()\n"
   ]
  },
  {
   "cell_type": "code",
   "execution_count": null,
   "id": "39f0a254-ebeb-4978-a12b-785ba185aeac",
   "metadata": {},
   "outputs": [],
   "source": []
  }
 ],
 "metadata": {
  "kernelspec": {
   "display_name": "Python 3 (ipykernel)",
   "language": "python",
   "name": "python3"
  },
  "language_info": {
   "codemirror_mode": {
    "name": "ipython",
    "version": 3
   },
   "file_extension": ".py",
   "mimetype": "text/x-python",
   "name": "python",
   "nbconvert_exporter": "python",
   "pygments_lexer": "ipython3",
   "version": "3.10.16"
  }
 },
 "nbformat": 4,
 "nbformat_minor": 5
}
