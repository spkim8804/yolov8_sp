{
 "cells": [
  {
   "cell_type": "code",
   "execution_count": 45,
   "id": "c456fa57-3d58-4850-9f45-b9a76f46d02f",
   "metadata": {},
   "outputs": [
    {
     "data": {
      "text/plain": [
       "True"
      ]
     },
     "execution_count": 45,
     "metadata": {},
     "output_type": "execute_result"
    }
   ],
   "source": [
    "import cv2\n",
    "import numpy as np\n",
    "\n",
    "color_chk = np.zeros((256, 256, 256))\n",
    "\n",
    "def extract_colors(image_path):\n",
    "    # Read the image\n",
    "    image = cv2.imread(image_path)\n",
    "    unique_colors = []\n",
    "    for i in range(image.shape[0]):\n",
    "        for j in range(image.shape[1]):\n",
    "            if(color_chk[image[i][j][0]][image[i][j][1]][image[i][j][2]] == 0):\n",
    "                if(image[i][j][0] == image[i][j][1] & image[i][j][0] == image[i][j][2]):\n",
    "                    image[i][j][0] = image[i][j][0]\n",
    "                else:\n",
    "                    color_chk[image[i][j][0]][image[i][j][1]][image[i][j][2]] = 1;\n",
    "                    unique_colors.append(image[i][j])\n",
    "\n",
    "    return unique_colors\n",
    "\n",
    "# Color extraction\n",
    "image_path = 'test4.png'\n",
    "colors = extract_colors(image_path)\n",
    "colors = extract_colors('rearing_ori.png')\n",
    "colors = extract_colors('rearing_ori2.png')\n",
    "\n",
    "data = cv2.imread('goal.png')\n",
    "for i in range(data.shape[0]):\n",
    "        for j in range(data.shape[1]):\n",
    "            if(color_chk[data[i][j][0]][data[i][j][1]][data[i][j][2]] == 1):\n",
    "                data[i][j] = [27, 158, 119]\n",
    "\n",
    "cv2.imwrite('convert.png', data)\n",
    "# Print the unique colors\n",
    "# for color in colors:\n",
    "#     print(color)"
   ]
  },
  {
   "cell_type": "code",
   "execution_count": 12,
   "id": "b5783a9e-e189-4f75-a019-b84cf060d7ff",
   "metadata": {},
   "outputs": [
    {
     "name": "stdout",
     "output_type": "stream",
     "text": [
      "Total unique colors: 71\n",
      "(180, 196, 222)\n",
      "(106, 137, 189)\n",
      "(75, 114, 176)\n",
      "(181, 196, 222)\n",
      "(138, 162, 203)\n",
      "(77, 115, 177)\n",
      "(136, 161, 202)\n",
      "(76, 114, 176)\n",
      "(252, 253, 254)\n",
      "(233, 238, 245)\n"
     ]
    }
   ],
   "source": [
    "import cv2\n",
    "\n",
    "def extract_unique_rgb_colors(image_path):\n",
    "    # Read the image\n",
    "    image = cv2.imread(image_path)\n",
    "\n",
    "    # Convert from BGR to RGB\n",
    "    image_rgb = cv2.cvtColor(image, cv2.COLOR_BGR2RGB)\n",
    "\n",
    "    # Initialize a set to store unique colors\n",
    "    unique_colors = set()\n",
    "\n",
    "    # Iterate over each pixel and add its color to the set\n",
    "    for row in image_rgb:\n",
    "        for pixel in row:\n",
    "            unique_colors.add(tuple(pixel))\n",
    "\n",
    "    return unique_colors\n",
    "\n",
    "# Example usage\n",
    "image_path = 'test3.png'\n",
    "unique_rgb_colors = extract_unique_rgb_colors(image_path)\n",
    "\n",
    "# Printing the unique colors\n",
    "print(f\"Total unique colors: {len(unique_rgb_colors)}\")\n",
    "for color in list(unique_rgb_colors)[:10]:  # Print first 10 unique colors\n",
    "    print(color)"
   ]
  },
  {
   "cell_type": "code",
   "execution_count": null,
   "id": "44767405-a7e4-4d11-87ca-c4a5ec1895cd",
   "metadata": {},
   "outputs": [],
   "source": []
  }
 ],
 "metadata": {
  "kernelspec": {
   "display_name": "Python 3 (ipykernel)",
   "language": "python",
   "name": "python3"
  },
  "language_info": {
   "codemirror_mode": {
    "name": "ipython",
    "version": 3
   },
   "file_extension": ".py",
   "mimetype": "text/x-python",
   "name": "python",
   "nbconvert_exporter": "python",
   "pygments_lexer": "ipython3",
   "version": "3.8.18"
  }
 },
 "nbformat": 4,
 "nbformat_minor": 5
}
